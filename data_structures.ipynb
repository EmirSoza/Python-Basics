{
 "cells": [
  {
   "cell_type": "markdown",
   "metadata": {},
   "source": [
    "6.5 Write code using find() and string slicing (see section 6.10) to extract the number at the end of the line below. Convert the extracted value to a floating point number and print it out."
   ]
  },
  {
   "cell_type": "code",
   "execution_count": 1,
   "metadata": {},
   "outputs": [
    {
     "output_type": "stream",
     "name": "stdout",
     "text": "0.8475\n"
    }
   ],
   "source": [
    "text = \"X-DSPAM-Confidence:    0.8475\";\n",
    "myPoint = text.find('0')\n",
    "myNumberStr = text[myPoint:]\n",
    "myNum = float(myNumberStr)\n",
    "print(myNum)"
   ]
  },
  {
   "cell_type": "markdown",
   "metadata": {},
   "source": [
    "7.1 Write a program that prompts for a file name, then opens that file and reads through the file, and print the contents of the file in upper case. Use the file words.txt to produce the output below."
   ]
  },
  {
   "cell_type": "code",
   "execution_count": 3,
   "metadata": {},
   "outputs": [
    {
     "output_type": "stream",
     "name": "stdout",
     "text": "WRITING PROGRAMS OR PROGRAMMING IS A VERY CREATIVE\nAND REWARDING ACTIVITY  YOU CAN WRITE PROGRAMS FOR\nMANY REASONS RANGING FROM MAKING YOUR LIVING TO SOLVING\nA DIFFICULT DATA ANALYSIS PROBLEM TO HAVING FUN TO HELPING\nSOMEONE ELSE SOLVE A PROBLEM  THIS BOOK ASSUMES THAT\n{\\EM EVERYONE} NEEDS TO KNOW HOW TO PROGRAM AND THAT ONCE\nYOU KNOW HOW TO PROGRAM, YOU WILL FIGURE OUT WHAT YOU WANT\nTO DO WITH YOUR NEWFOUND SKILLS\n\nWE ARE SURROUNDED IN OUR DAILY LIVES WITH COMPUTERS RANGING\nFROM LAPTOPS TO CELL PHONES  WE CAN THINK OF THESE COMPUTERS\nAS OUR PERSONAL ASSISTANTS WHO CAN TAKE CARE OF MANY THINGS\nON OUR BEHALF  THE HARDWARE IN OUR CURRENT-DAY COMPUTERS\nIS ESSENTIALLY BUILT TO CONTINUOUSLY ASK US THE QUESTION\nWHAT WOULD YOU LIKE ME TO DO NEXT\n\nOUR COMPUTERS ARE FAST AND HAVE VASTS AMOUNTS OF MEMORY AND\nCOULD BE VERY HELPFUL TO US IF WE ONLY KNEW THE LANGUAGE TO\nSPEAK TO EXPLAIN TO THE COMPUTER WHAT WE WOULD LIKE IT TO\nDO NEXT IF WE KNEW THIS LANGUAGE WE COULD TELL THE\nCOMPUTER TO DO TASKS ON OUR BEHALF THAT WERE REPTITIVE\nINTERESTINGLY, THE KINDS OF THINGS COMPUTERS CAN DO BEST\nARE OFTEN THE KINDS OF THINGS THAT WE HUMANS FIND BORING\nAND MIND-NUMBING\n"
    }
   ],
   "source": [
    "# Use words.txt as the file name\n",
    "fname = input(\"Enter file name: \")\n",
    "fh = open(fname, 'r')\n",
    "for lines in fh:\n",
    "    print(lines.rstrip().upper())"
   ]
  },
  {
   "cell_type": "markdown",
   "metadata": {},
   "source": [
    "7.2 Write a program that prompts for a file name, then opens that file and reads through the file, looking for lines of the form:\n",
    "X-DSPAM-Confidence:    0.8475\n",
    "Count these lines and extract the floating point values from each of the lines and compute the average of those values and produce an output as shown below. Do not use the sum() function or a variable named sum in your solution.\n",
    "You can download the sample data at http://www.py4e.com/code3/mbox-short.txt when you are testing below enter mbox-short.txt as the file name."
   ]
  },
  {
   "cell_type": "code",
   "execution_count": 5,
   "metadata": {},
   "outputs": [
    {
     "output_type": "stream",
     "name": "stdout",
     "text": "Average spam confidence: 0.7507185185185187\n"
    }
   ],
   "source": [
    "# Use the file name mbox-short.txt as the file name\n",
    "fname = input(\"Enter file name: \")\n",
    "fh = open(fname)\n",
    "counter = 0\n",
    "value = 0\n",
    "for line in fh:\n",
    "    if line.startswith(\"X-DSPAM-Confidence:\") : \n",
    "        counter = counter +1\n",
    "        lm = line.find('0')\n",
    "        srt = line.rstrip()\n",
    "        num = float(srt[lm :])\n",
    "        value = value + num\n",
    "\n",
    "print('Average spam confidence: ' + str(value/counter))"
   ]
  },
  {
   "cell_type": "markdown",
   "metadata": {},
   "source": [
    "8.4 Open the file romeo.txt and read it line by line. For each line, split the line into a list of words using the split() method. The program should build a list of words. For each word on each line check to see if the word is already in the list and if not append it to the list. When the program completes, sort and print the resulting words in alphabetical order.\n",
    "You can download the sample data at http://www.py4e.com/code3/romeo.txt"
   ]
  },
  {
   "cell_type": "code",
   "execution_count": null,
   "metadata": {},
   "outputs": [],
   "source": [
    "fname = input(\"Enter file name: \")\n",
    "fh = open(fname)\n",
    "lst = list()\n",
    "for line in fh:\n",
    "    a=line.rstrip()\n",
    "    myList = a.split()\n",
    "    for ele in myList :\n",
    "        if not ele in lst :\n",
    "            lst.append(ele)\n",
    "lst.sort()\n",
    "print(lst)"
   ]
  },
  {
   "cell_type": "markdown",
   "metadata": {},
   "source": [
    "8.5 Open the file mbox-short.txt and read it line by line. When you find a line that starts with 'From ' like the following line:\n",
    "From stephen.marquard@uct.ac.za Sat Jan  5 09:14:16 2008\n",
    "You will parse the From line using split() and print out the second word in the line (i.e. the entire address of the person who sent the message). Then print out a count at the end.\n",
    "Hint: make sure not to include the lines that start with 'From:'.\n",
    "\n",
    "You can download the sample data at http://www.py4e.com/code3/mbox-short.txt"
   ]
  },
  {
   "cell_type": "code",
   "execution_count": null,
   "metadata": {},
   "outputs": [],
   "source": [
    "fname = input(\"Enter file name: \")\n",
    "if len(fname) < 1 : fname = \"mbox-short.txt\"\n",
    "\n",
    "fh = open(fname)\n",
    "count = 0\n",
    "for line in fh :\n",
    "    if not line.startswith('From') : continue\n",
    "    if line.startswith('From:') : continue\n",
    "    count = count +1\n",
    "    ml = line.split()\n",
    "    print(ml[1])\n",
    "    \n",
    "\n",
    "\n",
    "print(\"There were\", count, \"lines in the file with From as the first word\")\n",
    "\n"
   ]
  },
  {
   "cell_type": "markdown",
   "metadata": {},
   "source": [
    "9.4 Write a program to read through the mbox-short.txt and figure out who has sent the greatest number of mail messages. The program looks for 'From ' lines and takes the second word of those lines as the person who sent the mail. The program creates a Python dictionary that maps the sender's mail address to a count of the number of times they appear in the file. After the dictionary is produced, the program reads through the dictionary using a maximum loop to find the most prolific committer."
   ]
  },
  {
   "cell_type": "code",
   "execution_count": null,
   "metadata": {},
   "outputs": [],
   "source": [
    "name = input(\"Enter file:\")\n",
    "if len(name) < 1 : name = \"mbox-short.txt\"\n",
    "handle = open(name)\n",
    "dict = {}\n",
    "for line in handle :\n",
    "    if not line.startswith('From') : continue\n",
    "    if line.startswith('From:') : continue\n",
    "    words = line.split()\n",
    "    dict[words[1]] = dict.get(words[1], 0) + 1\n",
    "        \n",
    " \n",
    "bigcount = None\n",
    "bigkey = None\n",
    "for kkk,vvv in dict.items():\n",
    "    if bigcount is None or vvv > bigcount :\n",
    "        bigcount = vvv\n",
    "        bigkey = kkk\n",
    "        \n",
    "print(bigkey , bigcount)"
   ]
  },
  {
   "cell_type": "markdown",
   "metadata": {},
   "source": [
    "10.2 Write a program to read through the mbox-short.txt and figure out the distribution by hour of the day for each of the messages. You can pull the hour out from the 'From ' line by finding the time and then splitting the string a second time using a colon.\n",
    "From stephen.marquard@uct.ac.za Sat Jan  5 09:14:16 2008\n",
    "Once you have accumulated the counts for each hour, print out the counts, sorted by hour as shown below."
   ]
  },
  {
   "cell_type": "code",
   "execution_count": null,
   "metadata": {},
   "outputs": [],
   "source": [
    "name = input(\"Enter file:\")\n",
    "if len(name) < 1 : name = \"mbox-short.txt\"\n",
    "handle = open(name)\n",
    "dict = {}\n",
    "for line in handle :\n",
    "    if not line.startswith('From') : continue\n",
    "    if line.startswith('From:') : continue\n",
    "    words = line.split()\n",
    "    \n",
    "    word = words[5]\n",
    "    dict[word[0:2]] = dict.get(word[0:2], 0) + 1\n",
    "\n",
    "lst = list()\n",
    "for k,v in dict.items():\n",
    "    newtup = (k,v)\n",
    "    lst.append(newtup)\n",
    "    \n",
    "lst = sorted(lst)\n",
    "for v,k in lst:\n",
    "    print(v,k)"
   ]
  },
  {
   "cell_type": "code",
   "execution_count": null,
   "metadata": {},
   "outputs": [],
   "source": []
  }
 ],
 "metadata": {
  "language_info": {
   "codemirror_mode": {
    "name": "ipython",
    "version": 3
   },
   "file_extension": ".py",
   "mimetype": "text/x-python",
   "name": "python",
   "nbconvert_exporter": "python",
   "pygments_lexer": "ipython3",
   "version": "3.7.6-final"
  },
  "orig_nbformat": 2,
  "kernelspec": {
   "name": "python3",
   "display_name": "Python 3"
  }
 },
 "nbformat": 4,
 "nbformat_minor": 2
}
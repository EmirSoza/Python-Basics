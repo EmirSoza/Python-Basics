{
 "cells": [
  {
   "cell_type": "markdown",
   "metadata": {},
   "source": [
    "# Uygulama: 2. Hafta"
   ]
  },
  {
   "cell_type": "markdown",
   "metadata": {},
   "source": [
    "1. En basit hali ile bir fonksiyon tanimlayip fonksiyonu cagiriniz. (Calistiriniz.)"
   ]
  },
  {
   "cell_type": "code",
   "execution_count": 1,
   "metadata": {},
   "outputs": [
    {
     "output_type": "stream",
     "name": "stdout",
     "text": "Here we go!\n"
    }
   ],
   "source": [
    "def callMe():\n",
    "    print('Here we go!')\n",
    "callMe()"
   ]
  },
  {
   "cell_type": "markdown",
   "metadata": {},
   "source": [
    "2. Tek argumanli (parametreli), return'u olmayan bir fonksiyon tanimlayiniz, fonksiyonu cagiriniz."
   ]
  },
  {
   "cell_type": "code",
   "execution_count": 2,
   "metadata": {},
   "outputs": [],
   "source": [
    "def withArg(x):\n",
    "    x = x**2 + 2*x\n",
    "withArg(3)"
   ]
  },
  {
   "cell_type": "markdown",
   "metadata": {},
   "source": [
    "3. Tek argumanli, return'u (geri donutu) olan bir fonksiyon tanimlayiniz, fonksiyonu cagiriniz."
   ]
  },
  {
   "cell_type": "code",
   "execution_count": 3,
   "metadata": {},
   "outputs": [
    {
     "output_type": "execute_result",
     "data": {
      "text/plain": "24"
     },
     "metadata": {},
     "execution_count": 3
    }
   ],
   "source": [
    "def withArgRet(x):\n",
    "    x = x**2 + 2*x\n",
    "    return x\n",
    "withArgRet(4)\n"
   ]
  },
  {
   "cell_type": "markdown",
   "metadata": {},
   "source": [
    "4. Tek argumanli, return ile geri donutu olan bir fonksiyon tanimlayiniz, fonksiyonu cagiriniz, 'sonuc' adli bir degisken ile geri donutu yakalayiniz (atama ile kaydediniz), 'sonuc' degiskenini yazdiriniz."
   ]
  },
  {
   "cell_type": "code",
   "execution_count": 5,
   "metadata": {},
   "outputs": [
    {
     "output_type": "stream",
     "name": "stdout",
     "text": "90\n"
    }
   ],
   "source": [
    "def argRet(x):\n",
    "    x = x*(x-1)\n",
    "    return x\n",
    "sonuc = argRet(10)\n",
    "print(sonuc)"
   ]
  },
  {
   "cell_type": "markdown",
   "metadata": {},
   "source": [
    "5. Asagida bir dataframe'in bir degiskeni secilmis tweets_lang adi ile kaydedilmistir. \n",
    "sonuc olarak  {'en': 97, 'et': 1, 'und': 2} seklinde sozluk yapisinda bir ciktisi olan kodlari yaziniz"
   ]
  },
  {
   "cell_type": "code",
   "execution_count": 12,
   "metadata": {},
   "outputs": [
    {
     "output_type": "execute_result",
     "data": {
      "text/plain": "{'en': 97, 'und': 2, 'et': 1}"
     },
     "metadata": {},
     "execution_count": 12
    }
   ],
   "source": [
    "import pandas as pd \n",
    "tweets_df = pd.read_csv('tweets.csv')\n",
    "tweets_lang = tweets_df['lang']\n",
    "tweets_lang.head()\n",
    "counts = tweets_lang.value_counts()\n",
    "counts.index\n",
    "counts.values\n",
    "counts.to_dict()\n"
   ]
  },
  {
   "cell_type": "markdown",
   "metadata": {},
   "source": [
    "6. Yukarida yazmis oldugunuz kodlara fonksiyon giydirerek tekrar ayni sonucu yazdiriniz."
   ]
  },
  {
   "cell_type": "code",
   "execution_count": 13,
   "metadata": {},
   "outputs": [
    {
     "output_type": "execute_result",
     "data": {
      "text/plain": "{'en': 97, 'und': 2, 'et': 1}"
     },
     "metadata": {},
     "execution_count": 13
    }
   ],
   "source": [
    "def generateDictionary(series):\n",
    "    count = series.value_counts()\n",
    "    return count.to_dict()\n",
    "generateDictionary(tweets_lang)"
   ]
  },
  {
   "cell_type": "markdown",
   "metadata": {},
   "source": [
    "7. Default argumani olan bir fonksiyon tanimlayiniz, fonksiyonu argumansiz calistiriniz, ayrica argumana farkli bir deger girerek calistiriniz."
   ]
  },
  {
   "cell_type": "code",
   "execution_count": 14,
   "metadata": {},
   "outputs": [
    {
     "output_type": "execute_result",
     "data": {
      "text/plain": "11.11111111111111"
     },
     "metadata": {},
     "execution_count": 14
    }
   ],
   "source": [
    "def defArg(x=10):\n",
    "    return x*x/(x-1)\n",
    "defArg()"
   ]
  },
  {
   "cell_type": "code",
   "execution_count": 15,
   "metadata": {},
   "outputs": [
    {
     "output_type": "execute_result",
     "data": {
      "text/plain": "16.071428571428573"
     },
     "metadata": {},
     "execution_count": 15
    }
   ],
   "source": [
    "defArg(15)"
   ]
  },
  {
   "cell_type": "markdown",
   "metadata": {},
   "source": [
    "8. Uc adet argumani olan bir fonksiyon tanimlayiniz, iki tanesinin default degeri olsun. Farkli varyasyonlarda fonksiyonu cagiriniz."
   ]
  },
  {
   "cell_type": "code",
   "execution_count": 21,
   "metadata": {},
   "outputs": [],
   "source": [
    "def threeArg(z,x=9, y=3):\n",
    "    return x**2-2*x*y+z\n"
   ]
  },
  {
   "cell_type": "code",
   "execution_count": 22,
   "metadata": {},
   "outputs": [
    {
     "output_type": "execute_result",
     "data": {
      "text/plain": "30"
     },
     "metadata": {},
     "execution_count": 22
    }
   ],
   "source": [
    "threeArg(3)"
   ]
  },
  {
   "cell_type": "code",
   "execution_count": 23,
   "metadata": {},
   "outputs": [
    {
     "output_type": "execute_result",
     "data": {
      "text/plain": "-5"
     },
     "metadata": {},
     "execution_count": 23
    }
   ],
   "source": [
    "threeArg(3,4)"
   ]
  },
  {
   "cell_type": "code",
   "execution_count": 24,
   "metadata": {},
   "outputs": [
    {
     "output_type": "execute_result",
     "data": {
      "text/plain": "9"
     },
     "metadata": {},
     "execution_count": 24
    }
   ],
   "source": [
    "threeArg(9,8,4)"
   ]
  },
  {
   "cell_type": "markdown",
   "metadata": {},
   "source": [
    "9. Sicaklik birimlerinden Celsius'u Kelvine ceviren fonksiyonu yaziniz."
   ]
  },
  {
   "cell_type": "markdown",
   "metadata": {},
   "source": [
    "From Celsius to Kelvin conversion\n",
    "\n",
    "K = C + 273.15"
   ]
  },
  {
   "cell_type": "code",
   "execution_count": 28,
   "metadata": {},
   "outputs": [
    {
     "output_type": "stream",
     "name": "stdout",
     "text": "23° Celcius equals 296.15° Kelvin\n"
    },
    {
     "output_type": "execute_result",
     "data": {
      "text/plain": "296.15"
     },
     "metadata": {},
     "execution_count": 28
    }
   ],
   "source": [
    "# -*- coding: utf-8 -*-\n",
    "def tempConvert(c):\n",
    "    k = c + 273.15\n",
    "    print(str(c)+ '° Celcius equals ' + str(k) + '° Kelvin')\n",
    "    return k\n",
    "tempConvert(23)"
   ]
  },
  {
   "cell_type": "markdown",
   "metadata": {},
   "source": [
    "10. Input fonksiyonu ile 24h formatinda girilen saat icin asagidaki kurallara gore belirtilen arsilama mesajini yazdiriniz."
   ]
  },
  {
   "cell_type": "code",
   "execution_count": 31,
   "metadata": {},
   "outputs": [
    {
     "output_type": "stream",
     "name": "stdout",
     "text": "Do not disturb me!\n"
    }
   ],
   "source": [
    "def welcome():\n",
    "    k = input('What is the time?')\n",
    "    a,b =k.split(':')\n",
    "    a = int(a)\n",
    "    if a>=6 and a<10:\n",
    "        print('Good Morning!')\n",
    "    elif a>=10 and a<15 :\n",
    "        print('Good day!')\n",
    "    elif a>=15 and a<19:\n",
    "        print('Good afternoon!')\n",
    "    elif a>=19 and a<24:\n",
    "        print('Good night!')\n",
    "    else :\n",
    "        print('You know whats the time? Do not disturb me!')\n",
    "welcome() "
   ]
  },
  {
   "cell_type": "markdown",
   "metadata": {},
   "source": [
    "11. Altinci soruda yazdiginiz fonksiyonun argumanini degistirerek ayni sonucu default arguman kullanarak yazdiriniz. Not: kolon_adi='lang' ifadesini kullaniniz."
   ]
  },
  {
   "cell_type": "code",
   "execution_count": 32,
   "metadata": {},
   "outputs": [
    {
     "output_type": "execute_result",
     "data": {
      "text/plain": "{'en': 97, 'und': 2, 'et': 1}"
     },
     "metadata": {},
     "execution_count": 32
    }
   ],
   "source": [
    "\n",
    "counts = tweets_lang.value_counts()\n",
    "def generateDictionaryArg(kolon_adi='lang'):\n",
    "    series= tweets_df[kolon_adi]\n",
    "    count = series.value_counts()\n",
    "    return count.to_dict()\n",
    "generateDictionaryArg()"
   ]
  },
  {
   "cell_type": "markdown",
   "metadata": {},
   "source": [
    "12. 'python' ile 'Python' ifadelerinin esit olup olmadigini gosteriniz"
   ]
  },
  {
   "cell_type": "code",
   "execution_count": 33,
   "metadata": {},
   "outputs": [
    {
     "output_type": "execute_result",
     "data": {
      "text/plain": "False"
     },
     "metadata": {},
     "execution_count": 33
    }
   ],
   "source": [
    "'python' == 'Python'"
   ]
  },
  {
   "cell_type": "code",
   "execution_count": 36,
   "metadata": {},
   "outputs": [
    {
     "output_type": "execute_result",
     "data": {
      "text/plain": "['Ari', 'Python', 'ari', 'python']"
     },
     "metadata": {},
     "execution_count": 36
    }
   ],
   "source": [
    "list = ['python','Python','ari','Ari']\n",
    "list.sort()\n",
    "list"
   ]
  },
  {
   "cell_type": "markdown",
   "metadata": {},
   "source": [
    "13. Asagidaki degiskenleri kullanarak dersin matematik olup olmadigini kontrol eden, matematik ise \"Matematik sinavi aciklandi\" ifadesi yazdiran, ayrica puanin 65'ten buyuk olup olmadigini kontrol eden ve 65'ten buyuk ise 'Sinavi Gectiniz' ifadesini cikti olarak yazan kodlari yaziniz."
   ]
  },
  {
   "cell_type": "raw",
   "metadata": {},
   "source": [
    "ders = \"matematik\"\n",
    "puan = 90"
   ]
  },
  {
   "cell_type": "markdown",
   "metadata": {},
   "source": [
    "???????"
   ]
  },
  {
   "cell_type": "markdown",
   "metadata": {},
   "source": [
    "14. Bir ustteki kodu editleyip tekrar yaziniz: Eger ders 'matematik' degil ise \"Matematik sinavi aciklanmadi\" yazilsin. Ayrica puan'in 65'ten kucuk olmasi halinde \"Sinavdan kaldiniz\" ifadesi yazilsin."
   ]
  },
  {
   "cell_type": "markdown",
   "metadata": {},
   "source": [
    "????????"
   ]
  },
  {
   "cell_type": "markdown",
   "metadata": {},
   "source": [
    "15. Bir liste olusturunuz ve for ile bu listenin elemanlarini yazdiriniz"
   ]
  },
  {
   "cell_type": "code",
   "execution_count": 43,
   "metadata": {},
   "outputs": [
    {
     "output_type": "stream",
     "name": "stdout",
     "text": "7\n28\n9\n18\n11\n10\n7\n27\n16\n30\n"
    }
   ],
   "source": [
    "liste = []\n",
    "import random\n",
    "for i in range(0,10):\n",
    "    n = random.randint(1,30)\n",
    "    liste.append(n)\n",
    "for i in liste:\n",
    "    print(i)\n",
    "\n",
    "\n"
   ]
  },
  {
   "cell_type": "markdown",
   "metadata": {},
   "source": [
    "16. Bir ustte yapiginiz islemi elemanlari otomatik numaralandirarak tekrar yazdiriniz"
   ]
  },
  {
   "cell_type": "code",
   "execution_count": 45,
   "metadata": {},
   "outputs": [
    {
     "output_type": "execute_result",
     "data": {
      "text/plain": "0     7\n1    28\n2     9\n3    18\n4    11\n5    10\n6     7\n7    27\n8    16\n9    30\ndtype: int64"
     },
     "metadata": {},
     "execution_count": 45
    }
   ],
   "source": [
    "import pandas as pd\n",
    "ps = pd.Series(liste)\n",
    "ps"
   ]
  },
  {
   "cell_type": "markdown",
   "metadata": {},
   "source": [
    "17. Asagida verilen A listesindeki elemanlari for dongusu kullanarak B listesine tasiyiniz."
   ]
  },
  {
   "cell_type": "code",
   "execution_count": 51,
   "metadata": {},
   "outputs": [],
   "source": [
    "A = [10,11,12,13,14,15,16]\n"
   ]
  },
  {
   "cell_type": "code",
   "execution_count": 59,
   "metadata": {},
   "outputs": [
    {
     "output_type": "stream",
     "name": "stdout",
     "text": "[]\n[10, 11, 12, 13, 14, 15, 16]\n"
    }
   ],
   "source": [
    "A = [10,11,12,13,14,15,16]\n",
    "B = []\n",
    "for i in A:\n",
    "    B.append(i)\n",
    "A.clear()    \n",
    "print(A)\n",
    "print(B)"
   ]
  },
  {
   "cell_type": "markdown",
   "metadata": {},
   "source": [
    "18. Asagida verilen A listesindeki cift sayilari for dongusu kullanarak B listesine tasiyiniz."
   ]
  },
  {
   "cell_type": "code",
   "execution_count": 60,
   "metadata": {},
   "outputs": [],
   "source": [
    "A = [10,11,12,13,14,15,16]\n",
    "B = []"
   ]
  },
  {
   "cell_type": "code",
   "execution_count": 62,
   "metadata": {},
   "outputs": [
    {
     "output_type": "execute_result",
     "data": {
      "text/plain": "[10, 12, 14, 16]"
     },
     "metadata": {},
     "execution_count": 62
    }
   ],
   "source": [
    "for i in A:\n",
    "    if i%2 == 0 :\n",
    "        B.append(i)\n",
    "B "
   ]
  },
  {
   "cell_type": "markdown",
   "metadata": {},
   "source": [
    "19. Asagidaki listeleri kullanarak belirtilen sonucu for dongusu kullanarak yazdiriniz.\n",
    "Belirtilen sonuc??"
   ]
  },
  {
   "cell_type": "code",
   "execution_count": 5,
   "metadata": {},
   "outputs": [],
   "source": [
    "adj = [\"yellow\", \"big\", \"tasty\"]\n",
    "fruits = [\"apple\", \"banana\"]"
   ]
  },
  {
   "cell_type": "raw",
   "metadata": {},
   "source": [
    "CIKTI:\n",
    "yellow apple\n",
    "yellow banana\n",
    "big apple\n",
    "big banana\n",
    "tasty apple\n",
    "tasty banana"
   ]
  },
  {
   "cell_type": "markdown",
   "metadata": {},
   "source": [
    "20. Carpim tablosunu for donguleri ile yazdiriniz."
   ]
  },
  {
   "cell_type": "code",
   "execution_count": 67,
   "metadata": {},
   "outputs": [
    {
     "output_type": "stream",
     "name": "stdout",
     "text": "1*1=1\n1*2=2\n1*3=3\n1*4=4\n1*5=5\n1*6=6\n1*7=7\n1*8=8\n1*9=9\n\n\n2*1=2\n2*2=4\n2*3=6\n2*4=8\n2*5=10\n2*6=12\n2*7=14\n2*8=16\n2*9=18\n\n\n3*1=3\n3*2=6\n3*3=9\n3*4=12\n3*5=15\n3*6=18\n3*7=21\n3*8=24\n3*9=27\n\n\n4*1=4\n4*2=8\n4*3=12\n4*4=16\n4*5=20\n4*6=24\n4*7=28\n4*8=32\n4*9=36\n\n\n5*1=5\n5*2=10\n5*3=15\n5*4=20\n5*5=25\n5*6=30\n5*7=35\n5*8=40\n5*9=45\n\n\n6*1=6\n6*2=12\n6*3=18\n6*4=24\n6*5=30\n6*6=36\n6*7=42\n6*8=48\n6*9=54\n\n\n7*1=7\n7*2=14\n7*3=21\n7*4=28\n7*5=35\n7*6=42\n7*7=49\n7*8=56\n7*9=63\n\n\n8*1=8\n8*2=16\n8*3=24\n8*4=32\n8*5=40\n8*6=48\n8*7=56\n8*8=64\n8*9=72\n\n\n9*1=9\n9*2=18\n9*3=27\n9*4=36\n9*5=45\n9*6=54\n9*7=63\n9*8=72\n9*9=81\n\n\n"
    }
   ],
   "source": [
    "for i in range(1,10):\n",
    "    for z in range(1,10):\n",
    "        print(str(i)+ '*' +str(z)+ '=' +\n",
    "        str(i*z))\n",
    "    print('\\n')"
   ]
  },
  {
   "cell_type": "markdown",
   "metadata": {},
   "source": [
    "21. 2000 yilinin subat ayi 29 gun olduguna gore, 2100 yilina kadar subat ayinin 29 gun oldugu yillari for dongusu kullanarak yazdiriniz."
   ]
  },
  {
   "cell_type": "code",
   "execution_count": 70,
   "metadata": {},
   "outputs": [
    {
     "output_type": "stream",
     "name": "stdout",
     "text": "2000\n2004\n2008\n2012\n2016\n2020\n2024\n2028\n2032\n2036\n2040\n2044\n2048\n2052\n2056\n2060\n2064\n2068\n2072\n2076\n2080\n2084\n2088\n2092\n2096\n"
    }
   ],
   "source": [
    "for i in range(2000,2100,4):\n",
    "    \n",
    "    print(i)\n"
   ]
  },
  {
   "cell_type": "markdown",
   "metadata": {},
   "source": [
    "22. 2000 ile 2100 (yillari dahil olmak uzere) arasinda subat ayinin 29 oldugu yillarin sayisini hesaplayiniz."
   ]
  },
  {
   "cell_type": "code",
   "execution_count": 73,
   "metadata": {},
   "outputs": [
    {
     "output_type": "execute_result",
     "data": {
      "text/plain": "25"
     },
     "metadata": {},
     "execution_count": 73
    }
   ],
   "source": [
    "count = 0\n",
    "for i in range(2000,2100,4):\n",
    "    count = count + 1\n",
    "count\n"
   ]
  },
  {
   "cell_type": "markdown",
   "metadata": {},
   "source": [
    "23. Basitlestirilmis bir Bowling oyunu icin bir puan hesaplama yapilmasi isteniyor.\n",
    "- atis_yap() adinda bir fonksiyon yaziniz, bu fonksiyon 0'dan 10'a kadar olan sayilardan rasgele birini secsin, ve yazdirsin.\n",
    "- Eger atis_yap() fonksiyonu 10 sayisini tutturursa Ekrana \"Strike!\" yazilsin."
   ]
  },
  {
   "cell_type": "code",
   "execution_count": 81,
   "metadata": {},
   "outputs": [
    {
     "output_type": "stream",
     "name": "stdout",
     "text": "2\n9\n4\n3\nSTRIKE\n10\nSTRIKE\n10\n5\n2\n1\n0\n"
    }
   ],
   "source": [
    "import random\n",
    "liste = []\n",
    "def atis_yap():\n",
    "    for i in range(0,10):\n",
    "        n = random.randint(0,10)\n",
    "        if n==10:\n",
    "            print('STRIKE')\n",
    "\n",
    "        print(n)\n",
    "        \n",
    "atis_yap()"
   ]
  },
  {
   "cell_type": "markdown",
   "metadata": {},
   "source": [
    "24. For dongusu kullanarak arguman olarak girilen sayinin faktöriyelini hesaplayan fonksiyonu yaziniz."
   ]
  },
  {
   "cell_type": "code",
   "execution_count": 87,
   "metadata": {},
   "outputs": [
    {
     "output_type": "execute_result",
     "data": {
      "text/plain": "120"
     },
     "metadata": {},
     "execution_count": 87
    }
   ],
   "source": [
    "def factorialNotation(x):\n",
    "    y=1\n",
    "    for i in range(1,x+1):\n",
    "        y = i*y\n",
    "        \n",
    "    return y\n",
    "\n",
    "factorialNotation(5)"
   ]
  },
  {
   "cell_type": "markdown",
   "metadata": {},
   "source": [
    "25. Arguman olarak aldigi kelimeyi tersten yazdiran ayrica ilk harfini buyuk, kalani kucuk harfle yazdiran fonksiyonu yaziniz."
   ]
  },
  {
   "cell_type": "code",
   "execution_count": 90,
   "metadata": {},
   "outputs": [
    {
     "output_type": "execute_result",
     "data": {
      "text/plain": "'!dehsinif si ti yllanif'"
     },
     "metadata": {},
     "execution_count": 90
    }
   ],
   "source": [
    "def reverseMe(name):\n",
    "    a=name[::-1]\n",
    "    return a.capitalize()\n",
    "reverseMe('Finally it is finished!')"
   ]
  },
  {
   "cell_type": "raw",
   "metadata": {},
   "source": [
    "ORNEK:\n",
    "Armut -> Tumra\n",
    "Kalem -> Melak"
   ]
  }
 ],
 "metadata": {
  "kernelspec": {
   "display_name": "Python 3",
   "language": "python",
   "name": "python3"
  },
  "language_info": {
   "codemirror_mode": {
    "name": "ipython",
    "version": 3
   },
   "file_extension": ".py",
   "mimetype": "text/x-python",
   "name": "python",
   "nbconvert_exporter": "python",
   "pygments_lexer": "ipython3",
   "version": "3.7.6-final"
  }
 },
 "nbformat": 4,
 "nbformat_minor": 4
}
{
 "cells": [
  {
   "cell_type": "markdown",
   "metadata": {},
   "source": [
    "---\n",
    "\n",
    "_You are currently looking at **version 1.5** of this notebook. To download notebooks and datafiles, as well as get help on Jupyter notebooks in the Coursera platform, visit the [Jupyter Notebook FAQ](https://www.coursera.org/learn/python-data-analysis/resources/0dhYG) course resource._\n",
    "\n",
    "---"
   ]
  },
  {
   "cell_type": "markdown",
   "metadata": {},
   "source": [
    "# Assignment 3 - More Pandas\n",
    "This assignment requires more individual learning then the last one did - you are encouraged to check out the [pandas documentation](http://pandas.pydata.org/pandas-docs/stable/) to find functions or methods you might not have used yet, or ask questions on [Stack Overflow](http://stackoverflow.com/) and tag them as pandas and python related. And of course, the discussion forums are open for interaction with your peers and the course staff."
   ]
  },
  {
   "cell_type": "markdown",
   "metadata": {},
   "source": [
    "### Question 1 (20%)\n",
    "Load the energy data from the file `Energy Indicators.xls`, which is a list of indicators of [energy supply and renewable electricity production](Energy%20Indicators.xls) from the [United Nations](http://unstats.un.org/unsd/environment/excel_file_tables/2013/Energy%20Indicators.xls) for the year 2013, and should be put into a DataFrame with the variable name of **energy**.\n",
    "\n",
    "Keep in mind that this is an Excel file, and not a comma separated values file. Also, make sure to exclude the footer and header information from the datafile. The first two columns are unneccessary, so you should get rid of them, and you should change the column labels so that the columns are:\n",
    "\n",
    "`['Country', 'Energy Supply', 'Energy Supply per Capita', '% Renewable']`\n",
    "\n",
    "Convert `Energy Supply` to gigajoules (there are 1,000,000 gigajoules in a petajoule). For all countries which have missing data (e.g. data with \"...\") make sure this is reflected as `np.NaN` values.\n",
    "\n",
    "Rename the following list of countries (for use in later questions):\n",
    "\n",
    "```\"Republic of Korea\": \"South Korea\",\n",
    "\"United States of America\": \"United States\",\n",
    "\"United Kingdom of Great Britain and Northern Ireland\": \"United Kingdom\",\n",
    "\"China, Hong Kong Special Administrative Region\": \"Hong Kong\"```\n",
    "\n",
    "There are also several countries with numbers and/or parenthesis in their name. Be sure to remove these, \n",
    "\n",
    "e.g. \n",
    "\n",
    "`'Bolivia (Plurinational State of)'` should be `'Bolivia'`, \n",
    "\n",
    "`'Switzerland17'` should be `'Switzerland'`.\n",
    "\n",
    "<br>\n",
    "\n",
    "Next, load the GDP data from the file `world_bank.csv`, which is a csv containing countries' GDP from 1960 to 2015 from [World Bank](http://data.worldbank.org/indicator/NY.GDP.MKTP.CD). Call this DataFrame **GDP**. \n",
    "\n",
    "Make sure to skip the header, and rename the following list of countries:\n",
    "\n",
    "```\"Korea, Rep.\": \"South Korea\", \n",
    "\"Iran, Islamic Rep.\": \"Iran\",\n",
    "\"Hong Kong SAR, China\": \"Hong Kong\"```\n",
    "\n",
    "<br>\n",
    "\n",
    "Finally, load the [Sciamgo Journal and Country Rank data for Energy Engineering and Power Technology](http://www.scimagojr.com/countryrank.php?category=2102) from the file `scimagojr-3.xlsx`, which ranks countries based on their journal contributions in the aforementioned area. Call this DataFrame **ScimEn**.\n",
    "\n",
    "Join the three datasets: GDP, Energy, and ScimEn into a new dataset (using the intersection of country names). Use only the last 10 years (2006-2015) of GDP data and only the top 15 countries by Scimagojr 'Rank' (Rank 1 through 15). \n",
    "\n",
    "The index of this DataFrame should be the name of the country, and the columns should be ['Rank', 'Documents', 'Citable documents', 'Citations', 'Self-citations',\n",
    "       'Citations per document', 'H index', 'Energy Supply',\n",
    "       'Energy Supply per Capita', '% Renewable', '2006', '2007', '2008',\n",
    "       '2009', '2010', '2011', '2012', '2013', '2014', '2015'].\n",
    "\n",
    "*This function should return a DataFrame with 20 columns and 15 entries.*"
   ]
  },
  {
   "cell_type": "code",
   "execution_count": 2,
   "metadata": {},
   "outputs": [],
   "source": [
    "import pandas as pd \n",
    "import numpy as np "
   ]
  },
  {
   "cell_type": "code",
   "execution_count": 33,
   "metadata": {
    "collapsed": true,
    "umich_part_id": "009",
    "umich_partlist_id": "003"
   },
   "outputs": [
    {
     "output_type": "execute_result",
     "data": {
      "text/plain": "                             Country  Energy Supply  Energy Supply per Capita  \\\n0                        Afghanistan   3.210000e+08                      10.0   \n1                            Albania   1.020000e+08                      35.0   \n2                            Algeria   1.959000e+09                      51.0   \n3                     American Samoa            NaN                       NaN   \n4                            Andorra   9.000000e+06                     121.0   \n5                             Angola   6.420000e+08                      27.0   \n6                           Anguilla   2.000000e+06                     136.0   \n7                Antigua and Barbuda   8.000000e+06                      84.0   \n8                          Argentina   3.378000e+09                      79.0   \n9                            Armenia   1.430000e+08                      48.0   \n10                             Aruba   1.200000e+07                     120.0   \n11                        Australia1   5.386000e+09                     231.0   \n12                           Austria   1.391000e+09                     164.0   \n13                        Azerbaijan   5.670000e+08                      60.0   \n14                           Bahamas   4.500000e+07                     118.0   \n15                           Bahrain   5.740000e+08                     425.0   \n16                        Bangladesh   1.625000e+09                      10.0   \n17                          Barbados   1.900000e+07                      69.0   \n18                           Belarus   1.142000e+09                     120.0   \n19                           Belgium   2.338000e+09                     210.0   \n20                            Belize   1.300000e+07                      39.0   \n21                             Benin   1.700000e+08                      16.0   \n22                           Bermuda   6.000000e+06                      88.0   \n23                            Bhutan   6.300000e+07                      83.0   \n24                           Bolivia   3.360000e+08                      32.0   \n25  Bonaire, Sint Eustatius and Saba   5.000000e+06                     213.0   \n26            Bosnia and Herzegovina   2.660000e+08                      70.0   \n27                          Botswana   8.600000e+07                      39.0   \n28                            Brazil   1.214900e+10                      59.0   \n29            British Virgin Islands   2.000000e+06                      85.0   \n30                 Brunei Darussalam   1.270000e+08                     310.0   \n31                          Bulgaria   7.030000e+08                      97.0   \n32                      Burkina Faso   1.640000e+08                      10.0   \n33                           Burundi   5.800000e+07                       6.0   \n34                        Cabo Verde   7.000000e+06                      15.0   \n35                          Cambodia   2.500000e+08                      17.0   \n36                          Cameroon   3.070000e+08                      14.0   \n37                            Canada   1.043100e+10                     296.0   \n38                    Cayman Islands   8.000000e+06                     131.0   \n39          Central African Republic   2.300000e+07                       5.0   \n40                              Chad   7.700000e+07                       6.0   \n41                             Chile   1.613000e+09                      92.0   \n42                            China2   1.271910e+11                      93.0   \n43                        Hong Kong3   5.850000e+08                      82.0   \n44                            Macao4   4.700000e+07                      83.0   \n45                          Colombia   1.513000e+09                      32.0   \n46                           Comoros   5.000000e+06                       7.0   \n47                             Congo   1.020000e+08                      23.0   \n48                      Cook Islands   1.000000e+06                      48.0   \n49                        Costa Rica   2.220000e+08                      47.0   \n\n    % Renewable  \n0     78.669280  \n1    100.000000  \n2      0.551010  \n3      0.641026  \n4     88.695650  \n5     70.909090  \n6      0.000000  \n7      0.000000  \n8     24.064520  \n9     28.236060  \n10    14.870690  \n11    11.810810  \n12    72.452820  \n13     6.384345  \n14     0.000000  \n15     0.000000  \n16     1.966329  \n17     0.000000  \n18     0.463389  \n19     9.959739  \n20    64.690030  \n21     0.000000  \n22     0.000000  \n23   100.000000  \n24    31.477120  \n25     0.000000  \n26    41.464670  \n27     0.131406  \n28    69.648030  \n29     0.000000  \n30     0.045434  \n31    17.234610  \n32    14.500680  \n33    86.792450  \n34    21.227620  \n35    57.311590  \n36    70.886260  \n37    61.945430  \n38     0.000000  \n39    85.635360  \n40     0.000000  \n41    28.006570  \n42    19.754910  \n43     0.000000  \n44     0.000000  \n45    63.002840  \n46    11.627910  \n47    57.748870  \n48     0.000000  \n49    88.736420  ",
      "text/html": "<div>\n<style scoped>\n    .dataframe tbody tr th:only-of-type {\n        vertical-align: middle;\n    }\n\n    .dataframe tbody tr th {\n        vertical-align: top;\n    }\n\n    .dataframe thead th {\n        text-align: right;\n    }\n</style>\n<table border=\"1\" class=\"dataframe\">\n  <thead>\n    <tr style=\"text-align: right;\">\n      <th></th>\n      <th>Country</th>\n      <th>Energy Supply</th>\n      <th>Energy Supply per Capita</th>\n      <th>% Renewable</th>\n    </tr>\n  </thead>\n  <tbody>\n    <tr>\n      <th>0</th>\n      <td>Afghanistan</td>\n      <td>3.210000e+08</td>\n      <td>10.0</td>\n      <td>78.669280</td>\n    </tr>\n    <tr>\n      <th>1</th>\n      <td>Albania</td>\n      <td>1.020000e+08</td>\n      <td>35.0</td>\n      <td>100.000000</td>\n    </tr>\n    <tr>\n      <th>2</th>\n      <td>Algeria</td>\n      <td>1.959000e+09</td>\n      <td>51.0</td>\n      <td>0.551010</td>\n    </tr>\n    <tr>\n      <th>3</th>\n      <td>American Samoa</td>\n      <td>NaN</td>\n      <td>NaN</td>\n      <td>0.641026</td>\n    </tr>\n    <tr>\n      <th>4</th>\n      <td>Andorra</td>\n      <td>9.000000e+06</td>\n      <td>121.0</td>\n      <td>88.695650</td>\n    </tr>\n    <tr>\n      <th>5</th>\n      <td>Angola</td>\n      <td>6.420000e+08</td>\n      <td>27.0</td>\n      <td>70.909090</td>\n    </tr>\n    <tr>\n      <th>6</th>\n      <td>Anguilla</td>\n      <td>2.000000e+06</td>\n      <td>136.0</td>\n      <td>0.000000</td>\n    </tr>\n    <tr>\n      <th>7</th>\n      <td>Antigua and Barbuda</td>\n      <td>8.000000e+06</td>\n      <td>84.0</td>\n      <td>0.000000</td>\n    </tr>\n    <tr>\n      <th>8</th>\n      <td>Argentina</td>\n      <td>3.378000e+09</td>\n      <td>79.0</td>\n      <td>24.064520</td>\n    </tr>\n    <tr>\n      <th>9</th>\n      <td>Armenia</td>\n      <td>1.430000e+08</td>\n      <td>48.0</td>\n      <td>28.236060</td>\n    </tr>\n    <tr>\n      <th>10</th>\n      <td>Aruba</td>\n      <td>1.200000e+07</td>\n      <td>120.0</td>\n      <td>14.870690</td>\n    </tr>\n    <tr>\n      <th>11</th>\n      <td>Australia1</td>\n      <td>5.386000e+09</td>\n      <td>231.0</td>\n      <td>11.810810</td>\n    </tr>\n    <tr>\n      <th>12</th>\n      <td>Austria</td>\n      <td>1.391000e+09</td>\n      <td>164.0</td>\n      <td>72.452820</td>\n    </tr>\n    <tr>\n      <th>13</th>\n      <td>Azerbaijan</td>\n      <td>5.670000e+08</td>\n      <td>60.0</td>\n      <td>6.384345</td>\n    </tr>\n    <tr>\n      <th>14</th>\n      <td>Bahamas</td>\n      <td>4.500000e+07</td>\n      <td>118.0</td>\n      <td>0.000000</td>\n    </tr>\n    <tr>\n      <th>15</th>\n      <td>Bahrain</td>\n      <td>5.740000e+08</td>\n      <td>425.0</td>\n      <td>0.000000</td>\n    </tr>\n    <tr>\n      <th>16</th>\n      <td>Bangladesh</td>\n      <td>1.625000e+09</td>\n      <td>10.0</td>\n      <td>1.966329</td>\n    </tr>\n    <tr>\n      <th>17</th>\n      <td>Barbados</td>\n      <td>1.900000e+07</td>\n      <td>69.0</td>\n      <td>0.000000</td>\n    </tr>\n    <tr>\n      <th>18</th>\n      <td>Belarus</td>\n      <td>1.142000e+09</td>\n      <td>120.0</td>\n      <td>0.463389</td>\n    </tr>\n    <tr>\n      <th>19</th>\n      <td>Belgium</td>\n      <td>2.338000e+09</td>\n      <td>210.0</td>\n      <td>9.959739</td>\n    </tr>\n    <tr>\n      <th>20</th>\n      <td>Belize</td>\n      <td>1.300000e+07</td>\n      <td>39.0</td>\n      <td>64.690030</td>\n    </tr>\n    <tr>\n      <th>21</th>\n      <td>Benin</td>\n      <td>1.700000e+08</td>\n      <td>16.0</td>\n      <td>0.000000</td>\n    </tr>\n    <tr>\n      <th>22</th>\n      <td>Bermuda</td>\n      <td>6.000000e+06</td>\n      <td>88.0</td>\n      <td>0.000000</td>\n    </tr>\n    <tr>\n      <th>23</th>\n      <td>Bhutan</td>\n      <td>6.300000e+07</td>\n      <td>83.0</td>\n      <td>100.000000</td>\n    </tr>\n    <tr>\n      <th>24</th>\n      <td>Bolivia</td>\n      <td>3.360000e+08</td>\n      <td>32.0</td>\n      <td>31.477120</td>\n    </tr>\n    <tr>\n      <th>25</th>\n      <td>Bonaire, Sint Eustatius and Saba</td>\n      <td>5.000000e+06</td>\n      <td>213.0</td>\n      <td>0.000000</td>\n    </tr>\n    <tr>\n      <th>26</th>\n      <td>Bosnia and Herzegovina</td>\n      <td>2.660000e+08</td>\n      <td>70.0</td>\n      <td>41.464670</td>\n    </tr>\n    <tr>\n      <th>27</th>\n      <td>Botswana</td>\n      <td>8.600000e+07</td>\n      <td>39.0</td>\n      <td>0.131406</td>\n    </tr>\n    <tr>\n      <th>28</th>\n      <td>Brazil</td>\n      <td>1.214900e+10</td>\n      <td>59.0</td>\n      <td>69.648030</td>\n    </tr>\n    <tr>\n      <th>29</th>\n      <td>British Virgin Islands</td>\n      <td>2.000000e+06</td>\n      <td>85.0</td>\n      <td>0.000000</td>\n    </tr>\n    <tr>\n      <th>30</th>\n      <td>Brunei Darussalam</td>\n      <td>1.270000e+08</td>\n      <td>310.0</td>\n      <td>0.045434</td>\n    </tr>\n    <tr>\n      <th>31</th>\n      <td>Bulgaria</td>\n      <td>7.030000e+08</td>\n      <td>97.0</td>\n      <td>17.234610</td>\n    </tr>\n    <tr>\n      <th>32</th>\n      <td>Burkina Faso</td>\n      <td>1.640000e+08</td>\n      <td>10.0</td>\n      <td>14.500680</td>\n    </tr>\n    <tr>\n      <th>33</th>\n      <td>Burundi</td>\n      <td>5.800000e+07</td>\n      <td>6.0</td>\n      <td>86.792450</td>\n    </tr>\n    <tr>\n      <th>34</th>\n      <td>Cabo Verde</td>\n      <td>7.000000e+06</td>\n      <td>15.0</td>\n      <td>21.227620</td>\n    </tr>\n    <tr>\n      <th>35</th>\n      <td>Cambodia</td>\n      <td>2.500000e+08</td>\n      <td>17.0</td>\n      <td>57.311590</td>\n    </tr>\n    <tr>\n      <th>36</th>\n      <td>Cameroon</td>\n      <td>3.070000e+08</td>\n      <td>14.0</td>\n      <td>70.886260</td>\n    </tr>\n    <tr>\n      <th>37</th>\n      <td>Canada</td>\n      <td>1.043100e+10</td>\n      <td>296.0</td>\n      <td>61.945430</td>\n    </tr>\n    <tr>\n      <th>38</th>\n      <td>Cayman Islands</td>\n      <td>8.000000e+06</td>\n      <td>131.0</td>\n      <td>0.000000</td>\n    </tr>\n    <tr>\n      <th>39</th>\n      <td>Central African Republic</td>\n      <td>2.300000e+07</td>\n      <td>5.0</td>\n      <td>85.635360</td>\n    </tr>\n    <tr>\n      <th>40</th>\n      <td>Chad</td>\n      <td>7.700000e+07</td>\n      <td>6.0</td>\n      <td>0.000000</td>\n    </tr>\n    <tr>\n      <th>41</th>\n      <td>Chile</td>\n      <td>1.613000e+09</td>\n      <td>92.0</td>\n      <td>28.006570</td>\n    </tr>\n    <tr>\n      <th>42</th>\n      <td>China2</td>\n      <td>1.271910e+11</td>\n      <td>93.0</td>\n      <td>19.754910</td>\n    </tr>\n    <tr>\n      <th>43</th>\n      <td>Hong Kong3</td>\n      <td>5.850000e+08</td>\n      <td>82.0</td>\n      <td>0.000000</td>\n    </tr>\n    <tr>\n      <th>44</th>\n      <td>Macao4</td>\n      <td>4.700000e+07</td>\n      <td>83.0</td>\n      <td>0.000000</td>\n    </tr>\n    <tr>\n      <th>45</th>\n      <td>Colombia</td>\n      <td>1.513000e+09</td>\n      <td>32.0</td>\n      <td>63.002840</td>\n    </tr>\n    <tr>\n      <th>46</th>\n      <td>Comoros</td>\n      <td>5.000000e+06</td>\n      <td>7.0</td>\n      <td>11.627910</td>\n    </tr>\n    <tr>\n      <th>47</th>\n      <td>Congo</td>\n      <td>1.020000e+08</td>\n      <td>23.0</td>\n      <td>57.748870</td>\n    </tr>\n    <tr>\n      <th>48</th>\n      <td>Cook Islands</td>\n      <td>1.000000e+06</td>\n      <td>48.0</td>\n      <td>0.000000</td>\n    </tr>\n    <tr>\n      <th>49</th>\n      <td>Costa Rica</td>\n      <td>2.220000e+08</td>\n      <td>47.0</td>\n      <td>88.736420</td>\n    </tr>\n  </tbody>\n</table>\n</div>"
     },
     "metadata": {},
     "execution_count": 33
    }
   ],
   "source": [
    "\n",
    "\n",
    "def answer_one():\n",
    "    energyraw = pd.ExcelFile('Energy+Indicators.xls')\n",
    "    energy = energyraw.parse(skiprows=17, skipfooter=39)\n",
    "    energy.drop(['Unnamed: 0', 'Unnamed: 1'], axis=1, inplace=True)\n",
    "    energy.columns = ['Country', 'Energy Supply', 'Energy Supply per Capita', '% Renewable']\n",
    "    energy[['Energy Supply', 'Energy Supply per Capita', '% Renewable']] =  energy[['Energy Supply', 'Energy Supply per Capita', '% Renewable']].replace('...',np.NaN).apply(pd.to_numeric)\n",
    "    energy['Energy Supply'] = 1000000*energy['Energy Supply']\n",
    "    energy['Country'] = energy['Country'].replace({'Iran (Islamic Republic of)':'Iran','China, Hong Kong Special Administrative Region':'Hong Kong', 'China, Hong Kong Special Administrative Region3' :'Hong Kong3','China, Macao Special Administrative Region4' :'Macao4','Republic of Korea':'South Korea','United States of America':'United States','United Kingdom of Great Britain and Northern Ireland':'United Kingdom'})\n",
    "    energy['Country'] = energy['Country'].str.replace(\" \\(.*\\)\",\"\") #reg\n",
    "    \n",
    "    return energy.head(50)\n",
    "answer_one()\n"
   ]
  },
  {
   "cell_type": "markdown",
   "metadata": {},
   "source": [
    "### Question 2 (6.6%)\n",
    "The previous question joined three datasets then reduced this to just the top 15 entries. When you joined the datasets, but before you reduced this to the top 15 items, how many entries did you lose?\n",
    "\n",
    "*This function should return a single number.*"
   ]
  },
  {
   "cell_type": "code",
   "execution_count": 1,
   "metadata": {},
   "outputs": [
    {
     "data": {
      "text/html": [
       "<svg width=\"800\" height=\"300\">\n",
       "  <circle cx=\"150\" cy=\"180\" r=\"80\" fill-opacity=\"0.2\" stroke=\"black\" stroke-width=\"2\" fill=\"blue\" />\n",
       "  <circle cx=\"200\" cy=\"100\" r=\"80\" fill-opacity=\"0.2\" stroke=\"black\" stroke-width=\"2\" fill=\"red\" />\n",
       "  <circle cx=\"100\" cy=\"100\" r=\"80\" fill-opacity=\"0.2\" stroke=\"black\" stroke-width=\"2\" fill=\"green\" />\n",
       "  <line x1=\"150\" y1=\"125\" x2=\"300\" y2=\"150\" stroke=\"black\" stroke-width=\"2\" fill=\"black\" stroke-dasharray=\"5,3\"/>\n",
       "  <text  x=\"300\" y=\"165\" font-family=\"Verdana\" font-size=\"35\">Everything but this!</text>\n",
       "</svg>"
      ],
      "text/plain": [
       "<IPython.core.display.HTML object>"
      ]
     },
     "metadata": {},
     "output_type": "display_data"
    }
   ],
   "source": [
    "%%HTML\n",
    "<svg width=\"800\" height=\"300\">\n",
    "  <circle cx=\"150\" cy=\"180\" r=\"80\" fill-opacity=\"0.2\" stroke=\"black\" stroke-width=\"2\" fill=\"blue\" />\n",
    "  <circle cx=\"200\" cy=\"100\" r=\"80\" fill-opacity=\"0.2\" stroke=\"black\" stroke-width=\"2\" fill=\"red\" />\n",
    "  <circle cx=\"100\" cy=\"100\" r=\"80\" fill-opacity=\"0.2\" stroke=\"black\" stroke-width=\"2\" fill=\"green\" />\n",
    "  <line x1=\"150\" y1=\"125\" x2=\"300\" y2=\"150\" stroke=\"black\" stroke-width=\"2\" fill=\"black\" stroke-dasharray=\"5,3\"/>\n",
    "  <text  x=\"300\" y=\"165\" font-family=\"Verdana\" font-size=\"35\">Everything but this!</text>\n",
    "</svg>"
   ]
  },
  {
   "cell_type": "code",
   "execution_count": null,
   "metadata": {
    "collapsed": true,
    "umich_part_id": "010",
    "umich_partlist_id": "003"
   },
   "outputs": [],
   "source": [
    "def answer_two():\n",
    "    return \"ANSWER\""
   ]
  },
  {
   "cell_type": "markdown",
   "metadata": {},
   "source": [
    "## Answer the following questions in the context of only the top 15 countries by Scimagojr Rank (aka the DataFrame returned by `answer_one()`)"
   ]
  },
  {
   "cell_type": "markdown",
   "metadata": {},
   "source": [
    "### Question 3 (6.6%)\n",
    "What is the average GDP over the last 10 years for each country? (exclude missing values from this calculation.)\n",
    "\n",
    "*This function should return a Series named `avgGDP` with 15 countries and their average GDP sorted in descending order.*"
   ]
  },
  {
   "cell_type": "code",
   "execution_count": null,
   "metadata": {
    "collapsed": true,
    "scrolled": true,
    "umich_part_id": "011",
    "umich_partlist_id": "003"
   },
   "outputs": [],
   "source": [
    "def answer_three():\n",
    "    Top15 = answer_one()\n",
    "    return \"ANSWER\""
   ]
  },
  {
   "cell_type": "markdown",
   "metadata": {},
   "source": [
    "### Question 4 (6.6%)\n",
    "By how much had the GDP changed over the 10 year span for the country with the 6th largest average GDP?\n",
    "\n",
    "*This function should return a single number.*"
   ]
  },
  {
   "cell_type": "code",
   "execution_count": null,
   "metadata": {
    "collapsed": true,
    "scrolled": true,
    "umich_part_id": "012",
    "umich_partlist_id": "003"
   },
   "outputs": [],
   "source": [
    "def answer_four():\n",
    "    Top15 = answer_one()\n",
    "    return \"ANSWER\""
   ]
  },
  {
   "cell_type": "markdown",
   "metadata": {},
   "source": [
    "### Question 5 (6.6%)\n",
    "What is the mean `Energy Supply per Capita`?\n",
    "\n",
    "*This function should return a single number.*"
   ]
  },
  {
   "cell_type": "code",
   "execution_count": null,
   "metadata": {
    "collapsed": true,
    "umich_part_id": "013",
    "umich_partlist_id": "003"
   },
   "outputs": [],
   "source": [
    "def answer_five():\n",
    "    Top15 = answer_one()\n",
    "    return \"ANSWER\""
   ]
  },
  {
   "cell_type": "markdown",
   "metadata": {},
   "source": [
    "### Question 6 (6.6%)\n",
    "What country has the maximum % Renewable and what is the percentage?\n",
    "\n",
    "*This function should return a tuple with the name of the country and the percentage.*"
   ]
  },
  {
   "cell_type": "code",
   "execution_count": null,
   "metadata": {
    "collapsed": true,
    "umich_part_id": "014",
    "umich_partlist_id": "003"
   },
   "outputs": [],
   "source": [
    "def answer_six():\n",
    "    Top15 = answer_one()\n",
    "    return \"ANSWER\""
   ]
  },
  {
   "cell_type": "markdown",
   "metadata": {},
   "source": [
    "### Question 7 (6.6%)\n",
    "Create a new column that is the ratio of Self-Citations to Total Citations. \n",
    "What is the maximum value for this new column, and what country has the highest ratio?\n",
    "\n",
    "*This function should return a tuple with the name of the country and the ratio.*"
   ]
  },
  {
   "cell_type": "code",
   "execution_count": null,
   "metadata": {
    "collapsed": true,
    "umich_part_id": "015",
    "umich_partlist_id": "003"
   },
   "outputs": [],
   "source": [
    "def answer_seven():\n",
    "    Top15 = answer_one()\n",
    "    return \"ANSWER\""
   ]
  },
  {
   "cell_type": "markdown",
   "metadata": {},
   "source": [
    "### Question 8 (6.6%)\n",
    "\n",
    "Create a column that estimates the population using Energy Supply and Energy Supply per capita. \n",
    "What is the third most populous country according to this estimate?\n",
    "\n",
    "*This function should return a single string value.*"
   ]
  },
  {
   "cell_type": "code",
   "execution_count": null,
   "metadata": {
    "collapsed": true,
    "umich_part_id": "016",
    "umich_partlist_id": "003"
   },
   "outputs": [],
   "source": [
    "def answer_eight():\n",
    "    Top15 = answer_one()\n",
    "    return \"ANSWER\""
   ]
  },
  {
   "cell_type": "markdown",
   "metadata": {},
   "source": [
    "### Question 9 (6.6%)\n",
    "Create a column that estimates the number of citable documents per person. \n",
    "What is the correlation between the number of citable documents per capita and the energy supply per capita? Use the `.corr()` method, (Pearson's correlation).\n",
    "\n",
    "*This function should return a single number.*\n",
    "\n",
    "*(Optional: Use the built-in function `plot9()` to visualize the relationship between Energy Supply per Capita vs. Citable docs per Capita)*"
   ]
  },
  {
   "cell_type": "code",
   "execution_count": null,
   "metadata": {
    "collapsed": true,
    "umich_part_id": "017",
    "umich_partlist_id": "003"
   },
   "outputs": [],
   "source": [
    "def answer_nine():\n",
    "    Top15 = answer_one()\n",
    "    return \"ANSWER\""
   ]
  },
  {
   "cell_type": "code",
   "execution_count": null,
   "metadata": {
    "collapsed": true
   },
   "outputs": [],
   "source": [
    "def plot9():\n",
    "    import matplotlib as plt\n",
    "    %matplotlib inline\n",
    "    \n",
    "    Top15 = answer_one()\n",
    "    Top15['PopEst'] = Top15['Energy Supply'] / Top15['Energy Supply per Capita']\n",
    "    Top15['Citable docs per Capita'] = Top15['Citable documents'] / Top15['PopEst']\n",
    "    Top15.plot(x='Citable docs per Capita', y='Energy Supply per Capita', kind='scatter', xlim=[0, 0.0006])"
   ]
  },
  {
   "cell_type": "code",
   "execution_count": null,
   "metadata": {
    "collapsed": true
   },
   "outputs": [],
   "source": [
    "#plot9() # Be sure to comment out plot9() before submitting the assignment!"
   ]
  },
  {
   "cell_type": "markdown",
   "metadata": {},
   "source": [
    "### Question 10 (6.6%)\n",
    "Create a new column with a 1 if the country's % Renewable value is at or above the median for all countries in the top 15, and a 0 if the country's % Renewable value is below the median.\n",
    "\n",
    "*This function should return a series named `HighRenew` whose index is the country name sorted in ascending order of rank.*"
   ]
  },
  {
   "cell_type": "code",
   "execution_count": null,
   "metadata": {
    "collapsed": true,
    "umich_part_id": "018",
    "umich_partlist_id": "003"
   },
   "outputs": [],
   "source": [
    "def answer_ten():\n",
    "    Top15 = answer_one()\n",
    "    return \"ANSWER\""
   ]
  },
  {
   "cell_type": "markdown",
   "metadata": {},
   "source": [
    "### Question 11 (6.6%)\n",
    "Use the following dictionary to group the Countries by Continent, then create a dateframe that displays the sample size (the number of countries in each continent bin), and the sum, mean, and std deviation for the estimated population of each country.\n",
    "\n",
    "```python\n",
    "ContinentDict  = {'China':'Asia', \n",
    "                  'United States':'North America', \n",
    "                  'Japan':'Asia', \n",
    "                  'United Kingdom':'Europe', \n",
    "                  'Russian Federation':'Europe', \n",
    "                  'Canada':'North America', \n",
    "                  'Germany':'Europe', \n",
    "                  'India':'Asia',\n",
    "                  'France':'Europe', \n",
    "                  'South Korea':'Asia', \n",
    "                  'Italy':'Europe', \n",
    "                  'Spain':'Europe', \n",
    "                  'Iran':'Asia',\n",
    "                  'Australia':'Australia', \n",
    "                  'Brazil':'South America'}\n",
    "```\n",
    "\n",
    "*This function should return a DataFrame with index named Continent `['Asia', 'Australia', 'Europe', 'North America', 'South America']` and columns `['size', 'sum', 'mean', 'std']`*"
   ]
  },
  {
   "cell_type": "code",
   "execution_count": null,
   "metadata": {
    "collapsed": true,
    "umich_part_id": "019",
    "umich_partlist_id": "003"
   },
   "outputs": [],
   "source": [
    "def answer_eleven():\n",
    "    Top15 = answer_one()\n",
    "    return \"ANSWER\""
   ]
  },
  {
   "cell_type": "markdown",
   "metadata": {},
   "source": [
    "### Question 12 (6.6%)\n",
    "Cut % Renewable into 5 bins. Group Top15 by the Continent, as well as these new % Renewable bins. How many countries are in each of these groups?\n",
    "\n",
    "*This function should return a __Series__ with a MultiIndex of `Continent`, then the bins for `% Renewable`. Do not include groups with no countries.*"
   ]
  },
  {
   "cell_type": "code",
   "execution_count": null,
   "metadata": {
    "collapsed": true,
    "scrolled": true
   },
   "outputs": [],
   "source": [
    "def answer_twelve():\n",
    "    Top15 = answer_one()\n",
    "    return \"ANSWER\""
   ]
  },
  {
   "cell_type": "markdown",
   "metadata": {},
   "source": [
    "### Question 13 (6.6%)\n",
    "Convert the Population Estimate series to a string with thousands separator (using commas). Do not round the results.\n",
    "\n",
    "e.g. 317615384.61538464 -> 317,615,384.61538464\n",
    "\n",
    "*This function should return a Series `PopEst` whose index is the country name and whose values are the population estimate string.*"
   ]
  },
  {
   "cell_type": "code",
   "execution_count": null,
   "metadata": {
    "collapsed": true,
    "scrolled": true,
    "umich_part_id": "020",
    "umich_partlist_id": "003"
   },
   "outputs": [],
   "source": [
    "def answer_thirteen():\n",
    "    Top15 = answer_one()\n",
    "    return \"ANSWER\""
   ]
  },
  {
   "cell_type": "markdown",
   "metadata": {},
   "source": [
    "### Optional\n",
    "\n",
    "Use the built in function `plot_optional()` to see an example visualization."
   ]
  },
  {
   "cell_type": "code",
   "execution_count": null,
   "metadata": {
    "collapsed": true,
    "scrolled": true
   },
   "outputs": [],
   "source": [
    "def plot_optional():\n",
    "    import matplotlib as plt\n",
    "    %matplotlib inline\n",
    "    Top15 = answer_one()\n",
    "    ax = Top15.plot(x='Rank', y='% Renewable', kind='scatter', \n",
    "                    c=['#e41a1c','#377eb8','#e41a1c','#4daf4a','#4daf4a','#377eb8','#4daf4a','#e41a1c',\n",
    "                       '#4daf4a','#e41a1c','#4daf4a','#4daf4a','#e41a1c','#dede00','#ff7f00'], \n",
    "                    xticks=range(1,16), s=6*Top15['2014']/10**10, alpha=.75, figsize=[16,6]);\n",
    "\n",
    "    for i, txt in enumerate(Top15.index):\n",
    "        ax.annotate(txt, [Top15['Rank'][i], Top15['% Renewable'][i]], ha='center')\n",
    "\n",
    "    print(\"This is an example of a visualization that can be created to help understand the data. \\\n",
    "This is a bubble chart showing % Renewable vs. Rank. The size of the bubble corresponds to the countries' \\\n",
    "2014 GDP, and the color corresponds to the continent.\")"
   ]
  },
  {
   "cell_type": "code",
   "execution_count": null,
   "metadata": {
    "collapsed": true
   },
   "outputs": [],
   "source": [
    "#plot_optional() # Be sure to comment out plot_optional() before submitting the assignment!"
   ]
  }
 ],
 "metadata": {
  "anaconda-cloud": {},
  "coursera": {
   "course_slug": "python-data-analysis",
   "graded_item_id": "zAr06",
   "launcher_item_id": "KSSjT",
   "part_id": "SL3fU"
  },
  "kernelspec": {
   "display_name": "Python 3",
   "language": "python",
   "name": "python3"
  },
  "language_info": {
   "codemirror_mode": {
    "name": "ipython",
    "version": 3
   },
   "file_extension": ".py",
   "mimetype": "text/x-python",
   "name": "python",
   "nbconvert_exporter": "python",
   "pygments_lexer": "ipython3",
   "version": "3.7.6-final"
  },
  "umich": {
   "id": "Assignment 3",
   "version": "1.5"
  }
 },
 "nbformat": 4,
 "nbformat_minor": 1
}